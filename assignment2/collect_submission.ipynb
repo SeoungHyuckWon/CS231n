{
 "cells": [
  {
   "cell_type": "code",
   "execution_count": null,
   "metadata": {},
   "outputs": [],
   "source": [
    "from google.colab import drive\n",
    "\n",
    "drive.mount('/content/drive')\n",
    "\n",
    "# TODO: Enter the path in your Drive of the assignment.\n",
    "# e.g. 'cs231n/assignments/assignment2/'\n",
    "FOLDERNAME = None\n",
    "\n",
    "assert FOLDERNAME is not None, \"[!] Enter the foldername.\""
   ]
  },
  {
   "cell_type": "markdown",
   "metadata": {},
   "source": [
    "# Collect Submission - Zip + Generate PDF \n",
    "\n",
    "Run this notebook once you have completed all the other notebooks: `FullyConnectedNets.ipynb`, `BatchNormalization.ipynb`, `Dropout.ipynb`, `ConvolutionalNetworks.ipynb`, `TensorFlow/PyTorch.ipynb`, `Network_Visualization.ipynb`).\n",
    "\n",
    "It will:\n",
    "\n",
    "* Generate a zip file of your code (`.py` and `.ipynb`) called `a2_code_submission.zip`.\n",
    "* Convert all notebooks into a single PDF file called `a2_inline_submission.pdf`.\n",
    "\n",
    "If your submission for this step was successful, you should see the following display message:\n",
    "\n",
    "`### Done! Please submit a2_code_submission.zip and the a2_inline_submission.pdf to Gradescope. ###`\n",
    "\n",
    "Make sure to download the zip and pdf file locally to your computer, then submit to Gradescope. Congrats on succesfully completing the assignment!"
   ]
  },
  {
   "cell_type": "code",
   "execution_count": null,
   "metadata": {},
   "outputs": [],
   "source": [
    "%cd drive/My\\ Drive/$FOLDERNAME\n",
    "!sudo apt-get update\n",
    "!sudo apt-get install texlive-xetex texlive-fonts-recommended texlive-generic-recommended\n",
    "!pip install PyPDF2\n",
    "!bash collectSubmission.sh"
   ]
  }
 ],
 "metadata": {
  "kernelspec": {
   "display_name": "base",
   "language": "python",
   "name": "python3"
  },
  "language_info": {
   "name": "python",
   "version": "3.9.13 (main, Aug 25 2022, 18:29:29) \n[Clang 12.0.0 ]"
  },
  "vscode": {
   "interpreter": {
    "hash": "201f021d38352cb22dd28a713558513053c64acc58991c83a76557a85b1d0e6b"
   }
  }
 },
 "nbformat": 4,
 "nbformat_minor": 2
}
